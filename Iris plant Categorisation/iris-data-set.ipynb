{
 "cells": [
  {
   "cell_type": "code",
   "execution_count": 1,
   "id": "4e857b0b",
   "metadata": {
    "_cell_guid": "b1076dfc-b9ad-4769-8c92-a6c4dae69d19",
    "_uuid": "8f2839f25d086af736a60e9eeb907d3b93b6e0e5",
    "execution": {
     "iopub.execute_input": "2021-07-22T11:03:56.812269Z",
     "iopub.status.busy": "2021-07-22T11:03:56.811382Z",
     "iopub.status.idle": "2021-07-22T11:03:56.825192Z",
     "shell.execute_reply": "2021-07-22T11:03:56.825755Z",
     "shell.execute_reply.started": "2021-07-22T10:45:05.396652Z"
    },
    "papermill": {
     "duration": 0.037637,
     "end_time": "2021-07-22T11:03:56.826053",
     "exception": false,
     "start_time": "2021-07-22T11:03:56.788416",
     "status": "completed"
    },
    "tags": []
   },
   "outputs": [
    {
     "name": "stdout",
     "output_type": "stream",
     "text": [
      "/kaggle/input/iris/Iris.csv\n",
      "/kaggle/input/iris/database.sqlite\n"
     ]
    }
   ],
   "source": [
    "# This Python 3 environment comes with many helpful analytics libraries installed\n",
    "# It is defined by the kaggle/python Docker image: https://github.com/kaggle/docker-python\n",
    "# For example, here's several helpful packages to load\n",
    "\n",
    "import numpy as np # linear algebra\n",
    "import pandas as pd # data processing, CSV file I/O (e.g. pd.read_csv)\n",
    "\n",
    "# Input data files are available in the read-only \"../input/\" directory\n",
    "# For example, running this (by clicking run or pressing Shift+Enter) will list all files under the input directory\n",
    "import os\n",
    "for dirname, _, filenames in os.walk('/kaggle/input'):\n",
    "    for filename in filenames:\n",
    "        print(os.path.join(dirname, filename))\n",
    "\n",
    "# You can write up to 20GB to the current directory (/kaggle/working/) that gets preserved as output when you create a version using \"Save & Run All\" \n",
    "# You can also write temporary files to /kaggle/temp/, but they won't be saved outside of the current session"
   ]
  },
  {
   "cell_type": "code",
   "execution_count": 2,
   "id": "f6300f18",
   "metadata": {
    "execution": {
     "iopub.execute_input": "2021-07-22T11:03:56.853469Z",
     "iopub.status.busy": "2021-07-22T11:03:56.852787Z",
     "iopub.status.idle": "2021-07-22T11:03:56.955751Z",
     "shell.execute_reply": "2021-07-22T11:03:56.955178Z",
     "shell.execute_reply.started": "2021-07-22T10:45:06.119341Z"
    },
    "papermill": {
     "duration": 0.11882,
     "end_time": "2021-07-22T11:03:56.955926",
     "exception": false,
     "start_time": "2021-07-22T11:03:56.837106",
     "status": "completed"
    },
    "tags": []
   },
   "outputs": [
    {
     "name": "stdout",
     "output_type": "stream",
     "text": [
      "Index(['Id', 'SepalLengthCm', 'SepalWidthCm', 'PetalLengthCm', 'PetalWidthCm',\n",
      "       'Species'],\n",
      "      dtype='object')\n"
     ]
    }
   ],
   "source": [
    "#Loading data into your notebook\n",
    "data = pd.read_csv(\"/kaggle/input/iris/Iris.csv\")\n",
    "print(data.columns)"
   ]
  },
  {
   "cell_type": "code",
   "execution_count": 3,
   "id": "43fa17a0",
   "metadata": {
    "execution": {
     "iopub.execute_input": "2021-07-22T11:03:56.987980Z",
     "iopub.status.busy": "2021-07-22T11:03:56.987217Z",
     "iopub.status.idle": "2021-07-22T11:03:57.901481Z",
     "shell.execute_reply": "2021-07-22T11:03:57.900833Z",
     "shell.execute_reply.started": "2021-07-22T10:57:18.337972Z"
    },
    "papermill": {
     "duration": 0.935372,
     "end_time": "2021-07-22T11:03:57.901655",
     "exception": false,
     "start_time": "2021-07-22T11:03:56.966283",
     "status": "completed"
    },
    "tags": []
   },
   "outputs": [],
   "source": [
    "#Splitting your data into X and Y\n",
    "\n",
    "y = data['Species']\n",
    "# Import label encoder \n",
    "from sklearn import preprocessing \\\n",
    "# label_encoder object knows how to understand word labels. \n",
    "label_encoder = preprocessing.LabelEncoder() \n",
    "\n",
    "# Encode labels in column 'Species'. \n",
    "y= label_encoder.fit_transform(y) \n",
    "\n",
    "\n",
    "\n",
    "temp = ['Id', 'SepalLengthCm', 'SepalWidthCm', 'PetalLengthCm', 'PetalWidthCm']\n",
    "X = data[temp]"
   ]
  },
  {
   "cell_type": "code",
   "execution_count": 4,
   "id": "ea22dd94",
   "metadata": {
    "execution": {
     "iopub.execute_input": "2021-07-22T11:03:57.924395Z",
     "iopub.status.busy": "2021-07-22T11:03:57.923695Z",
     "iopub.status.idle": "2021-07-22T11:03:57.978931Z",
     "shell.execute_reply": "2021-07-22T11:03:57.978372Z",
     "shell.execute_reply.started": "2021-07-22T10:54:28.943613Z"
    },
    "papermill": {
     "duration": 0.068312,
     "end_time": "2021-07-22T11:03:57.979076",
     "exception": false,
     "start_time": "2021-07-22T11:03:57.910764",
     "status": "completed"
    },
    "tags": []
   },
   "outputs": [],
   "source": [
    "#Creating training and testing subsets\n",
    "from sklearn.model_selection import train_test_split\n",
    "\n",
    "train_X, val_X, train_y, val_y = train_test_split(X, y, random_state =  1)"
   ]
  },
  {
   "cell_type": "code",
   "execution_count": 5,
   "id": "398a5805",
   "metadata": {
    "execution": {
     "iopub.execute_input": "2021-07-22T11:03:58.002987Z",
     "iopub.status.busy": "2021-07-22T11:03:58.002247Z",
     "iopub.status.idle": "2021-07-22T11:03:58.197106Z",
     "shell.execute_reply": "2021-07-22T11:03:58.196355Z",
     "shell.execute_reply.started": "2021-07-22T11:02:15.189926Z"
    },
    "papermill": {
     "duration": 0.209043,
     "end_time": "2021-07-22T11:03:58.197291",
     "exception": false,
     "start_time": "2021-07-22T11:03:57.988248",
     "status": "completed"
    },
    "tags": []
   },
   "outputs": [],
   "source": [
    "#Selecting your desired model\n",
    "from sklearn.tree import DecisionTreeRegressor\n",
    "\n",
    "model = DecisionTreeRegressor(max_leaf_nodes=5, random_state=1 )\n",
    "\n",
    "#Start Training your model to assess it\n",
    "model.fit(train_X,train_y)\n",
    "predict = model.predict(val_X)"
   ]
  },
  {
   "cell_type": "code",
   "execution_count": 6,
   "id": "dbd5f0e9",
   "metadata": {
    "execution": {
     "iopub.execute_input": "2021-07-22T11:03:58.222574Z",
     "iopub.status.busy": "2021-07-22T11:03:58.221802Z",
     "iopub.status.idle": "2021-07-22T11:03:58.435338Z",
     "shell.execute_reply": "2021-07-22T11:03:58.434506Z",
     "shell.execute_reply.started": "2021-07-22T11:01:59.566116Z"
    },
    "papermill": {
     "duration": 0.228334,
     "end_time": "2021-07-22T11:03:58.435503",
     "exception": false,
     "start_time": "2021-07-22T11:03:58.207169",
     "status": "completed"
    },
    "tags": []
   },
   "outputs": [],
   "source": [
    "#Testing a second model\n",
    "from sklearn.ensemble import RandomForestRegressor\n",
    "forest_model = RandomForestRegressor(random_state=1)\n",
    "\n",
    "#Start Training your model to assess it\n",
    "forest_model.fit(train_X, train_y)\n",
    "melb_preds = forest_model.predict(val_X)"
   ]
  },
  {
   "cell_type": "code",
   "execution_count": 7,
   "id": "4b37894a",
   "metadata": {
    "execution": {
     "iopub.execute_input": "2021-07-22T11:03:58.462060Z",
     "iopub.status.busy": "2021-07-22T11:03:58.461265Z",
     "iopub.status.idle": "2021-07-22T11:03:58.464450Z",
     "shell.execute_reply": "2021-07-22T11:03:58.464959Z",
     "shell.execute_reply.started": "2021-07-22T11:02:19.083831Z"
    },
    "papermill": {
     "duration": 0.020492,
     "end_time": "2021-07-22T11:03:58.465150",
     "exception": false,
     "start_time": "2021-07-22T11:03:58.444658",
     "status": "completed"
    },
    "tags": []
   },
   "outputs": [
    {
     "data": {
      "text/plain": [
       "0.02631578947368421"
      ]
     },
     "execution_count": 7,
     "metadata": {},
     "output_type": "execute_result"
    }
   ],
   "source": [
    "from sklearn.metrics import mean_absolute_error \n",
    "#MAE for the Decision Tree regressor\n",
    "mean_absolute_error(val_y,predict)"
   ]
  },
  {
   "cell_type": "code",
   "execution_count": 8,
   "id": "0c22ca30",
   "metadata": {
    "execution": {
     "iopub.execute_input": "2021-07-22T11:03:58.487004Z",
     "iopub.status.busy": "2021-07-22T11:03:58.486365Z",
     "iopub.status.idle": "2021-07-22T11:03:58.491717Z",
     "shell.execute_reply": "2021-07-22T11:03:58.492296Z",
     "shell.execute_reply.started": "2021-07-22T11:02:24.423869Z"
    },
    "papermill": {
     "duration": 0.017917,
     "end_time": "2021-07-22T11:03:58.492471",
     "exception": false,
     "start_time": "2021-07-22T11:03:58.474554",
     "status": "completed"
    },
    "tags": []
   },
   "outputs": [
    {
     "data": {
      "text/plain": [
       "0.018947368421052636"
      ]
     },
     "execution_count": 8,
     "metadata": {},
     "output_type": "execute_result"
    }
   ],
   "source": [
    "#MAE for the Random Frrest regressor\n",
    "mean_absolute_error(val_y, melb_preds)"
   ]
  },
  {
   "cell_type": "code",
   "execution_count": null,
   "id": "135fe5d6",
   "metadata": {
    "papermill": {
     "duration": 0.009678,
     "end_time": "2021-07-22T11:03:58.511920",
     "exception": false,
     "start_time": "2021-07-22T11:03:58.502242",
     "status": "completed"
    },
    "tags": []
   },
   "outputs": [],
   "source": []
  }
 ],
 "metadata": {
  "kernelspec": {
   "display_name": "Python 3",
   "language": "python",
   "name": "python3"
  },
  "language_info": {
   "codemirror_mode": {
    "name": "ipython",
    "version": 3
   },
   "file_extension": ".py",
   "mimetype": "text/x-python",
   "name": "python",
   "nbconvert_exporter": "python",
   "pygments_lexer": "ipython3",
   "version": "3.7.10"
  },
  "papermill": {
   "default_parameters": {},
   "duration": 11.796572,
   "end_time": "2021-07-22T11:04:00.167346",
   "environment_variables": {},
   "exception": null,
   "input_path": "__notebook__.ipynb",
   "output_path": "__notebook__.ipynb",
   "parameters": {},
   "start_time": "2021-07-22T11:03:48.370774",
   "version": "2.3.3"
  }
 },
 "nbformat": 4,
 "nbformat_minor": 5
}
